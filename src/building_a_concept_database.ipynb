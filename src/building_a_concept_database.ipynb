{
  "cells": [
    {
      "cell_type": "markdown",
      "metadata": {
        "id": "s_j_Gu7s3wTO"
      },
      "source": [
        "# Let's build and initialise a MedCAT model!"
      ]
    },
    {
      "cell_type": "markdown",
      "metadata": {
        "id": "i4bQfWfXlKWJ"
      },
      "source": [
        "### First we need to install MedCAT\n"
      ]
    },
    {
      "cell_type": "code",
      "execution_count": 1,
      "metadata": {
        "colab": {
          "base_uri": "https://localhost:8080/",
          "height": 1000
        },
        "id": "OlMQ2iQrlG69",
        "outputId": "f0ab90b4-b587-411d-fb0b-25662d293d6b"
      },
      "outputs": [
        {
          "name": "stdout",
          "output_type": "stream",
          "text": [
            "Requirement already satisfied: medcat==1.5.0 in c:\\users\\stammers\\documents\\development\\medcat_demo\\medcat\\lib\\site-packages (1.5.0)\n",
            "Requirement already satisfied: scikit-learn<1.2.0 in c:\\users\\stammers\\documents\\development\\medcat_demo\\medcat\\lib\\site-packages (from medcat==1.5.0) (1.1.3)\n",
            "Requirement already satisfied: smart-open==5.2.1 in c:\\users\\stammers\\documents\\development\\medcat_demo\\medcat\\lib\\site-packages (from medcat==1.5.0) (5.2.1)\n",
            "Requirement already satisfied: dill<0.3.5,~=0.3.4 in c:\\users\\stammers\\documents\\development\\medcat_demo\\medcat\\lib\\site-packages (from medcat==1.5.0) (0.3.4)\n",
            "Requirement already satisfied: ipywidgets~=7.6.5 in c:\\users\\stammers\\documents\\development\\medcat_demo\\medcat\\lib\\site-packages (from medcat==1.5.0) (7.6.6)\n",
            "Requirement already satisfied: xxhash==3.0.0 in c:\\users\\stammers\\documents\\development\\medcat_demo\\medcat\\lib\\site-packages (from medcat==1.5.0) (3.0.0)\n",
            "Requirement already satisfied: tqdm>=4.27 in c:\\users\\stammers\\documents\\development\\medcat_demo\\medcat\\lib\\site-packages (from medcat==1.5.0) (4.64.1)\n",
            "Requirement already satisfied: jsonpickle~=2.0.0 in c:\\users\\stammers\\documents\\development\\medcat_demo\\medcat\\lib\\site-packages (from medcat==1.5.0) (2.0.0)\n",
            "Requirement already satisfied: elasticsearch<9,>=8.3 in c:\\users\\stammers\\documents\\development\\medcat_demo\\medcat\\lib\\site-packages (from medcat==1.5.0) (8.6.0)\n",
            "Requirement already satisfied: pandas<=1.4.2,>=1.1.5 in c:\\users\\stammers\\documents\\development\\medcat_demo\\medcat\\lib\\site-packages (from medcat==1.5.0) (1.4.2)\n",
            "Requirement already satisfied: eland<9,>=8.3.0 in c:\\users\\stammers\\documents\\development\\medcat_demo\\medcat\\lib\\site-packages (from medcat==1.5.0) (8.3.0)\n",
            "Requirement already satisfied: torch>=1.0 in c:\\users\\stammers\\documents\\development\\medcat_demo\\medcat\\lib\\site-packages (from medcat==1.5.0) (1.13.1)\n",
            "Requirement already satisfied: datasets~=2.2.2 in c:\\users\\stammers\\documents\\development\\medcat_demo\\medcat\\lib\\site-packages (from medcat==1.5.0) (2.2.2)\n",
            "Requirement already satisfied: aiofiles~=0.8.0 in c:\\users\\stammers\\documents\\development\\medcat_demo\\medcat\\lib\\site-packages (from medcat==1.5.0) (0.8.0)\n",
            "Requirement already satisfied: transformers~=4.19.2 in c:\\users\\stammers\\documents\\development\\medcat_demo\\medcat\\lib\\site-packages (from medcat==1.5.0) (4.19.4)\n",
            "Requirement already satisfied: gensim~=4.1.2 in c:\\users\\stammers\\documents\\development\\medcat_demo\\medcat\\lib\\site-packages (from medcat==1.5.0) (4.1.2)\n",
            "Requirement already satisfied: blis<=0.7.5 in c:\\users\\stammers\\documents\\development\\medcat_demo\\medcat\\lib\\site-packages (from medcat==1.5.0) (0.7.5)\n",
            "Requirement already satisfied: py2neo==2021.2.3 in c:\\users\\stammers\\documents\\development\\medcat_demo\\medcat\\lib\\site-packages (from medcat==1.5.0) (2021.2.3)\n",
            "Requirement already satisfied: multiprocess==0.70.12 in c:\\users\\stammers\\documents\\development\\medcat_demo\\medcat\\lib\\site-packages (from medcat==1.5.0) (0.70.12)\n",
            "Requirement already satisfied: scipy<=1.8.1,>=1.5.4 in c:\\users\\stammers\\documents\\development\\medcat_demo\\medcat\\lib\\site-packages (from medcat==1.5.0) (1.8.1)\n",
            "Requirement already satisfied: numpy>=1.21.4 in c:\\users\\stammers\\documents\\development\\medcat_demo\\medcat\\lib\\site-packages (from medcat==1.5.0) (1.24.1)\n",
            "Requirement already satisfied: spacy<3.1.4,>=3.1.0 in c:\\users\\stammers\\documents\\development\\medcat_demo\\medcat\\lib\\site-packages (from medcat==1.5.0) (3.1.3)\n",
            "Requirement already satisfied: click<=8.0.4 in c:\\users\\stammers\\documents\\development\\medcat_demo\\medcat\\lib\\site-packages (from medcat==1.5.0) (8.0.4)\n",
            "Requirement already satisfied: pydantic!=1.8,!=1.8.1,<1.9.0,>=1.7.4 in c:\\users\\stammers\\documents\\development\\medcat_demo\\medcat\\lib\\site-packages (from medcat==1.5.0) (1.8.2)\n",
            "Requirement already satisfied: joblib~=1.2 in c:\\users\\stammers\\documents\\development\\medcat_demo\\medcat\\lib\\site-packages (from medcat==1.5.0) (1.2.0)\n",
            "Requirement already satisfied: psutil<6.0.0,>=5.8.0 in c:\\users\\stammers\\documents\\development\\medcat_demo\\medcat\\lib\\site-packages (from medcat==1.5.0) (5.9.4)\n",
            "Requirement already satisfied: aiohttp==3.8.3 in c:\\users\\stammers\\documents\\development\\medcat_demo\\medcat\\lib\\site-packages (from medcat==1.5.0) (3.8.3)\n",
            "Requirement already satisfied: attrs>=17.3.0 in c:\\users\\stammers\\documents\\development\\medcat_demo\\medcat\\lib\\site-packages (from aiohttp==3.8.3->medcat==1.5.0) (22.2.0)\n",
            "Requirement already satisfied: frozenlist>=1.1.1 in c:\\users\\stammers\\documents\\development\\medcat_demo\\medcat\\lib\\site-packages (from aiohttp==3.8.3->medcat==1.5.0) (1.3.3)\n",
            "Requirement already satisfied: multidict<7.0,>=4.5 in c:\\users\\stammers\\documents\\development\\medcat_demo\\medcat\\lib\\site-packages (from aiohttp==3.8.3->medcat==1.5.0) (6.0.4)\n",
            "Requirement already satisfied: aiosignal>=1.1.2 in c:\\users\\stammers\\documents\\development\\medcat_demo\\medcat\\lib\\site-packages (from aiohttp==3.8.3->medcat==1.5.0) (1.3.1)\n",
            "Requirement already satisfied: yarl<2.0,>=1.0 in c:\\users\\stammers\\documents\\development\\medcat_demo\\medcat\\lib\\site-packages (from aiohttp==3.8.3->medcat==1.5.0) (1.8.2)\n",
            "Requirement already satisfied: charset-normalizer<3.0,>=2.0 in c:\\users\\stammers\\documents\\development\\medcat_demo\\medcat\\lib\\site-packages (from aiohttp==3.8.3->medcat==1.5.0) (2.1.1)\n",
            "Requirement already satisfied: async-timeout<5.0,>=4.0.0a3 in c:\\users\\stammers\\documents\\development\\medcat_demo\\medcat\\lib\\site-packages (from aiohttp==3.8.3->medcat==1.5.0) (4.0.2)\n",
            "Requirement already satisfied: pansi>=2020.7.3 in c:\\users\\stammers\\documents\\development\\medcat_demo\\medcat\\lib\\site-packages (from py2neo==2021.2.3->medcat==1.5.0) (2020.7.3)\n",
            "Requirement already satisfied: interchange~=2021.0.4 in c:\\users\\stammers\\documents\\development\\medcat_demo\\medcat\\lib\\site-packages (from py2neo==2021.2.3->medcat==1.5.0) (2021.0.4)\n",
            "Requirement already satisfied: packaging in c:\\users\\stammers\\documents\\development\\medcat_demo\\medcat\\lib\\site-packages (from py2neo==2021.2.3->medcat==1.5.0) (23.0)\n",
            "Requirement already satisfied: certifi in c:\\users\\stammers\\documents\\development\\medcat_demo\\medcat\\lib\\site-packages (from py2neo==2021.2.3->medcat==1.5.0) (2022.12.7)\n",
            "Requirement already satisfied: pygments>=2.0.0 in c:\\users\\stammers\\documents\\development\\medcat_demo\\medcat\\lib\\site-packages (from py2neo==2021.2.3->medcat==1.5.0) (2.14.0)\n",
            "Requirement already satisfied: six>=1.15.0 in c:\\users\\stammers\\documents\\development\\medcat_demo\\medcat\\lib\\site-packages (from py2neo==2021.2.3->medcat==1.5.0) (1.16.0)\n",
            "Requirement already satisfied: monotonic in c:\\users\\stammers\\documents\\development\\medcat_demo\\medcat\\lib\\site-packages (from py2neo==2021.2.3->medcat==1.5.0) (1.6)\n",
            "Requirement already satisfied: urllib3 in c:\\users\\stammers\\documents\\development\\medcat_demo\\medcat\\lib\\site-packages (from py2neo==2021.2.3->medcat==1.5.0) (1.26.13)\n",
            "Requirement already satisfied: colorama in c:\\users\\stammers\\documents\\development\\medcat_demo\\medcat\\lib\\site-packages (from click<=8.0.4->medcat==1.5.0) (0.4.6)\n",
            "Requirement already satisfied: fsspec[http]>=2021.05.0 in c:\\users\\stammers\\documents\\development\\medcat_demo\\medcat\\lib\\site-packages (from datasets~=2.2.2->medcat==1.5.0) (2022.11.0)\n",
            "Requirement already satisfied: responses<0.19 in c:\\users\\stammers\\documents\\development\\medcat_demo\\medcat\\lib\\site-packages (from datasets~=2.2.2->medcat==1.5.0) (0.18.0)\n",
            "Requirement already satisfied: huggingface-hub<1.0.0,>=0.1.0 in c:\\users\\stammers\\documents\\development\\medcat_demo\\medcat\\lib\\site-packages (from datasets~=2.2.2->medcat==1.5.0) (0.11.1)\n",
            "Requirement already satisfied: requests>=2.19.0 in c:\\users\\stammers\\documents\\development\\medcat_demo\\medcat\\lib\\site-packages (from datasets~=2.2.2->medcat==1.5.0) (2.28.1)\n",
            "Requirement already satisfied: pyarrow>=6.0.0 in c:\\users\\stammers\\documents\\development\\medcat_demo\\medcat\\lib\\site-packages (from datasets~=2.2.2->medcat==1.5.0) (10.0.1)\n",
            "Requirement already satisfied: matplotlib<4 in c:\\users\\stammers\\documents\\development\\medcat_demo\\medcat\\lib\\site-packages (from eland<9,>=8.3.0->medcat==1.5.0) (3.6.2)\n",
            "Requirement already satisfied: elastic-transport<9,>=8 in c:\\users\\stammers\\documents\\development\\medcat_demo\\medcat\\lib\\site-packages (from elasticsearch<9,>=8.3->medcat==1.5.0) (8.4.0)\n",
            "Requirement already satisfied: Cython==0.29.23 in c:\\users\\stammers\\documents\\development\\medcat_demo\\medcat\\lib\\site-packages (from gensim~=4.1.2->medcat==1.5.0) (0.29.23)\n",
            "Requirement already satisfied: pyyaml>=5.1 in c:\\users\\stammers\\documents\\development\\medcat_demo\\medcat\\lib\\site-packages (from huggingface-hub<1.0.0,>=0.1.0->datasets~=2.2.2->medcat==1.5.0) (6.0)\n",
            "Requirement already satisfied: typing-extensions>=3.7.4.3 in c:\\users\\stammers\\documents\\development\\medcat_demo\\medcat\\lib\\site-packages (from huggingface-hub<1.0.0,>=0.1.0->datasets~=2.2.2->medcat==1.5.0) (4.4.0)\n",
            "Requirement already satisfied: filelock in c:\\users\\stammers\\documents\\development\\medcat_demo\\medcat\\lib\\site-packages (from huggingface-hub<1.0.0,>=0.1.0->datasets~=2.2.2->medcat==1.5.0) (3.9.0)\n",
            "Requirement already satisfied: pytz in c:\\users\\stammers\\documents\\development\\medcat_demo\\medcat\\lib\\site-packages (from interchange~=2021.0.4->py2neo==2021.2.3->medcat==1.5.0) (2022.7)\n",
            "Requirement already satisfied: widgetsnbextension~=3.5.0 in c:\\users\\stammers\\documents\\development\\medcat_demo\\medcat\\lib\\site-packages (from ipywidgets~=7.6.5->medcat==1.5.0) (3.5.2)\n",
            "Requirement already satisfied: jupyterlab-widgets<3,>=1.0.0 in c:\\users\\stammers\\documents\\development\\medcat_demo\\medcat\\lib\\site-packages (from ipywidgets~=7.6.5->medcat==1.5.0) (1.1.1)\n",
            "Requirement already satisfied: ipython-genutils~=0.2.0 in c:\\users\\stammers\\documents\\development\\medcat_demo\\medcat\\lib\\site-packages (from ipywidgets~=7.6.5->medcat==1.5.0) (0.2.0)\n",
            "Requirement already satisfied: ipython>=4.0.0 in c:\\users\\stammers\\documents\\development\\medcat_demo\\medcat\\lib\\site-packages (from ipywidgets~=7.6.5->medcat==1.5.0) (8.8.0)\n",
            "Requirement already satisfied: ipykernel>=4.5.1 in c:\\users\\stammers\\documents\\development\\medcat_demo\\medcat\\lib\\site-packages (from ipywidgets~=7.6.5->medcat==1.5.0) (6.20.1)\n",
            "Requirement already satisfied: nbformat>=4.2.0 in c:\\users\\stammers\\documents\\development\\medcat_demo\\medcat\\lib\\site-packages (from ipywidgets~=7.6.5->medcat==1.5.0) (5.7.1)\n",
            "Requirement already satisfied: traitlets>=4.3.1 in c:\\users\\stammers\\documents\\development\\medcat_demo\\medcat\\lib\\site-packages (from ipywidgets~=7.6.5->medcat==1.5.0) (5.8.1)\n",
            "Requirement already satisfied: matplotlib-inline>=0.1 in c:\\users\\stammers\\documents\\development\\medcat_demo\\medcat\\lib\\site-packages (from ipykernel>=4.5.1->ipywidgets~=7.6.5->medcat==1.5.0) (0.1.6)\n",
            "Requirement already satisfied: nest-asyncio in c:\\users\\stammers\\documents\\development\\medcat_demo\\medcat\\lib\\site-packages (from ipykernel>=4.5.1->ipywidgets~=7.6.5->medcat==1.5.0) (1.5.6)\n",
            "Requirement already satisfied: pyzmq>=17 in c:\\users\\stammers\\documents\\development\\medcat_demo\\medcat\\lib\\site-packages (from ipykernel>=4.5.1->ipywidgets~=7.6.5->medcat==1.5.0) (24.0.1)\n",
            "Requirement already satisfied: debugpy>=1.0 in c:\\users\\stammers\\documents\\development\\medcat_demo\\medcat\\lib\\site-packages (from ipykernel>=4.5.1->ipywidgets~=7.6.5->medcat==1.5.0) (1.6.5)\n",
            "Requirement already satisfied: tornado>=6.1 in c:\\users\\stammers\\documents\\development\\medcat_demo\\medcat\\lib\\site-packages (from ipykernel>=4.5.1->ipywidgets~=7.6.5->medcat==1.5.0) (6.2)\n",
            "Requirement already satisfied: jupyter-client>=6.1.12 in c:\\users\\stammers\\documents\\development\\medcat_demo\\medcat\\lib\\site-packages (from ipykernel>=4.5.1->ipywidgets~=7.6.5->medcat==1.5.0) (7.4.8)\n",
            "Requirement already satisfied: comm>=0.1.1 in c:\\users\\stammers\\documents\\development\\medcat_demo\\medcat\\lib\\site-packages (from ipykernel>=4.5.1->ipywidgets~=7.6.5->medcat==1.5.0) (0.1.2)\n",
            "Requirement already satisfied: backcall in c:\\users\\stammers\\documents\\development\\medcat_demo\\medcat\\lib\\site-packages (from ipython>=4.0.0->ipywidgets~=7.6.5->medcat==1.5.0) (0.2.0)\n",
            "Requirement already satisfied: decorator in c:\\users\\stammers\\documents\\development\\medcat_demo\\medcat\\lib\\site-packages (from ipython>=4.0.0->ipywidgets~=7.6.5->medcat==1.5.0) (5.1.1)\n",
            "Requirement already satisfied: jedi>=0.16 in c:\\users\\stammers\\documents\\development\\medcat_demo\\medcat\\lib\\site-packages (from ipython>=4.0.0->ipywidgets~=7.6.5->medcat==1.5.0) (0.18.2)\n",
            "Requirement already satisfied: prompt-toolkit<3.1.0,>=3.0.11 in c:\\users\\stammers\\documents\\development\\medcat_demo\\medcat\\lib\\site-packages (from ipython>=4.0.0->ipywidgets~=7.6.5->medcat==1.5.0) (3.0.36)\n",
            "Requirement already satisfied: pickleshare in c:\\users\\stammers\\documents\\development\\medcat_demo\\medcat\\lib\\site-packages (from ipython>=4.0.0->ipywidgets~=7.6.5->medcat==1.5.0) (0.7.5)\n",
            "Requirement already satisfied: stack-data in c:\\users\\stammers\\documents\\development\\medcat_demo\\medcat\\lib\\site-packages (from ipython>=4.0.0->ipywidgets~=7.6.5->medcat==1.5.0) (0.6.2)\n",
            "Requirement already satisfied: parso<0.9.0,>=0.8.0 in c:\\users\\stammers\\documents\\development\\medcat_demo\\medcat\\lib\\site-packages (from jedi>=0.16->ipython>=4.0.0->ipywidgets~=7.6.5->medcat==1.5.0) (0.8.3)\n",
            "Requirement already satisfied: jupyter-core>=4.9.2 in c:\\users\\stammers\\documents\\development\\medcat_demo\\medcat\\lib\\site-packages (from jupyter-client>=6.1.12->ipykernel>=4.5.1->ipywidgets~=7.6.5->medcat==1.5.0) (5.1.3)\n",
            "Requirement already satisfied: entrypoints in c:\\users\\stammers\\documents\\development\\medcat_demo\\medcat\\lib\\site-packages (from jupyter-client>=6.1.12->ipykernel>=4.5.1->ipywidgets~=7.6.5->medcat==1.5.0) (0.4)\n",
            "Requirement already satisfied: python-dateutil>=2.8.2 in c:\\users\\stammers\\documents\\development\\medcat_demo\\medcat\\lib\\site-packages (from jupyter-client>=6.1.12->ipykernel>=4.5.1->ipywidgets~=7.6.5->medcat==1.5.0) (2.8.2)\n",
            "Requirement already satisfied: platformdirs>=2.5 in c:\\users\\stammers\\documents\\development\\medcat_demo\\medcat\\lib\\site-packages (from jupyter-core>=4.9.2->jupyter-client>=6.1.12->ipykernel>=4.5.1->ipywidgets~=7.6.5->medcat==1.5.0) (2.6.2)\n",
            "Requirement already satisfied: pywin32>=1.0 in c:\\users\\stammers\\documents\\development\\medcat_demo\\medcat\\lib\\site-packages (from jupyter-core>=4.9.2->jupyter-client>=6.1.12->ipykernel>=4.5.1->ipywidgets~=7.6.5->medcat==1.5.0) (305)\n",
            "Requirement already satisfied: pyparsing>=2.2.1 in c:\\users\\stammers\\documents\\development\\medcat_demo\\medcat\\lib\\site-packages (from matplotlib<4->eland<9,>=8.3.0->medcat==1.5.0) (3.0.9)\n",
            "Requirement already satisfied: contourpy>=1.0.1 in c:\\users\\stammers\\documents\\development\\medcat_demo\\medcat\\lib\\site-packages (from matplotlib<4->eland<9,>=8.3.0->medcat==1.5.0) (1.0.6)\n",
            "Requirement already satisfied: cycler>=0.10 in c:\\users\\stammers\\documents\\development\\medcat_demo\\medcat\\lib\\site-packages (from matplotlib<4->eland<9,>=8.3.0->medcat==1.5.0) (0.11.0)\n",
            "Requirement already satisfied: pillow>=6.2.0 in c:\\users\\stammers\\documents\\development\\medcat_demo\\medcat\\lib\\site-packages (from matplotlib<4->eland<9,>=8.3.0->medcat==1.5.0) (9.4.0)\n",
            "Requirement already satisfied: kiwisolver>=1.0.1 in c:\\users\\stammers\\documents\\development\\medcat_demo\\medcat\\lib\\site-packages (from matplotlib<4->eland<9,>=8.3.0->medcat==1.5.0) (1.4.4)\n",
            "Requirement already satisfied: fonttools>=4.22.0 in c:\\users\\stammers\\documents\\development\\medcat_demo\\medcat\\lib\\site-packages (from matplotlib<4->eland<9,>=8.3.0->medcat==1.5.0) (4.38.0)\n",
            "Requirement already satisfied: jsonschema>=2.6 in c:\\users\\stammers\\documents\\development\\medcat_demo\\medcat\\lib\\site-packages (from nbformat>=4.2.0->ipywidgets~=7.6.5->medcat==1.5.0) (4.17.3)\n",
            "Requirement already satisfied: fastjsonschema in c:\\users\\stammers\\documents\\development\\medcat_demo\\medcat\\lib\\site-packages (from nbformat>=4.2.0->ipywidgets~=7.6.5->medcat==1.5.0) (2.16.2)\n",
            "Requirement already satisfied: pkgutil-resolve-name>=1.3.10 in c:\\users\\stammers\\documents\\development\\medcat_demo\\medcat\\lib\\site-packages (from jsonschema>=2.6->nbformat>=4.2.0->ipywidgets~=7.6.5->medcat==1.5.0) (1.3.10)\n",
            "Requirement already satisfied: pyrsistent!=0.17.0,!=0.17.1,!=0.17.2,>=0.14.0 in c:\\users\\stammers\\documents\\development\\medcat_demo\\medcat\\lib\\site-packages (from jsonschema>=2.6->nbformat>=4.2.0->ipywidgets~=7.6.5->medcat==1.5.0) (0.19.3)\n",
            "Requirement already satisfied: importlib-resources>=1.4.0 in c:\\users\\stammers\\documents\\development\\medcat_demo\\medcat\\lib\\site-packages (from jsonschema>=2.6->nbformat>=4.2.0->ipywidgets~=7.6.5->medcat==1.5.0) (5.10.2)\n",
            "Requirement already satisfied: zipp>=3.1.0 in c:\\users\\stammers\\documents\\development\\medcat_demo\\medcat\\lib\\site-packages (from importlib-resources>=1.4.0->jsonschema>=2.6->nbformat>=4.2.0->ipywidgets~=7.6.5->medcat==1.5.0) (3.11.0)\n",
            "Requirement already satisfied: wcwidth in c:\\users\\stammers\\documents\\development\\medcat_demo\\medcat\\lib\\site-packages (from prompt-toolkit<3.1.0,>=3.0.11->ipython>=4.0.0->ipywidgets~=7.6.5->medcat==1.5.0) (0.2.5)\n",
            "Requirement already satisfied: idna<4,>=2.5 in c:\\users\\stammers\\documents\\development\\medcat_demo\\medcat\\lib\\site-packages (from requests>=2.19.0->datasets~=2.2.2->medcat==1.5.0) (3.4)\n",
            "Requirement already satisfied: threadpoolctl>=2.0.0 in c:\\users\\stammers\\documents\\development\\medcat_demo\\medcat\\lib\\site-packages (from scikit-learn<1.2.0->medcat==1.5.0) (3.1.0)\n",
            "Requirement already satisfied: cymem<2.1.0,>=2.0.2 in c:\\users\\stammers\\documents\\development\\medcat_demo\\medcat\\lib\\site-packages (from spacy<3.1.4,>=3.1.0->medcat==1.5.0) (2.0.7)\n",
            "Requirement already satisfied: srsly<3.0.0,>=2.4.1 in c:\\users\\stammers\\documents\\development\\medcat_demo\\medcat\\lib\\site-packages (from spacy<3.1.4,>=3.1.0->medcat==1.5.0) (2.4.5)\n",
            "Requirement already satisfied: spacy-legacy<3.1.0,>=3.0.8 in c:\\users\\stammers\\documents\\development\\medcat_demo\\medcat\\lib\\site-packages (from spacy<3.1.4,>=3.1.0->medcat==1.5.0) (3.0.11)\n",
            "Requirement already satisfied: wasabi<1.1.0,>=0.8.1 in c:\\users\\stammers\\documents\\development\\medcat_demo\\medcat\\lib\\site-packages (from spacy<3.1.4,>=3.1.0->medcat==1.5.0) (0.10.1)\n",
            "Requirement already satisfied: murmurhash<1.1.0,>=0.28.0 in c:\\users\\stammers\\documents\\development\\medcat_demo\\medcat\\lib\\site-packages (from spacy<3.1.4,>=3.1.0->medcat==1.5.0) (1.0.9)\n",
            "Requirement already satisfied: thinc<8.1.0,>=8.0.9 in c:\\users\\stammers\\documents\\development\\medcat_demo\\medcat\\lib\\site-packages (from spacy<3.1.4,>=3.1.0->medcat==1.5.0) (8.0.17)\n",
            "Requirement already satisfied: pathy>=0.3.5 in c:\\users\\stammers\\documents\\development\\medcat_demo\\medcat\\lib\\site-packages (from spacy<3.1.4,>=3.1.0->medcat==1.5.0) (0.10.1)\n",
            "Requirement already satisfied: setuptools in c:\\users\\stammers\\documents\\development\\medcat_demo\\medcat\\lib\\site-packages (from spacy<3.1.4,>=3.1.0->medcat==1.5.0) (56.0.0)\n",
            "Requirement already satisfied: preshed<3.1.0,>=3.0.2 in c:\\users\\stammers\\documents\\development\\medcat_demo\\medcat\\lib\\site-packages (from spacy<3.1.4,>=3.1.0->medcat==1.5.0) (3.0.8)\n",
            "Requirement already satisfied: catalogue<2.1.0,>=2.0.6 in c:\\users\\stammers\\documents\\development\\medcat_demo\\medcat\\lib\\site-packages (from spacy<3.1.4,>=3.1.0->medcat==1.5.0) (2.0.8)\n",
            "Requirement already satisfied: jinja2 in c:\\users\\stammers\\documents\\development\\medcat_demo\\medcat\\lib\\site-packages (from spacy<3.1.4,>=3.1.0->medcat==1.5.0) (3.1.2)\n",
            "Requirement already satisfied: typer<0.5.0,>=0.3.0 in c:\\users\\stammers\\documents\\development\\medcat_demo\\medcat\\lib\\site-packages (from spacy<3.1.4,>=3.1.0->medcat==1.5.0) (0.4.2)\n",
            "Requirement already satisfied: tokenizers!=0.11.3,<0.13,>=0.11.1 in c:\\users\\stammers\\documents\\development\\medcat_demo\\medcat\\lib\\site-packages (from transformers~=4.19.2->medcat==1.5.0) (0.12.1)\n",
            "Requirement already satisfied: regex!=2019.12.17 in c:\\users\\stammers\\documents\\development\\medcat_demo\\medcat\\lib\\site-packages (from transformers~=4.19.2->medcat==1.5.0) (2022.10.31)\n",
            "Requirement already satisfied: notebook>=4.4.1 in c:\\users\\stammers\\documents\\development\\medcat_demo\\medcat\\lib\\site-packages (from widgetsnbextension~=3.5.0->ipywidgets~=7.6.5->medcat==1.5.0) (6.5.2)\n",
            "Requirement already satisfied: nbclassic>=0.4.7 in c:\\users\\stammers\\documents\\development\\medcat_demo\\medcat\\lib\\site-packages (from notebook>=4.4.1->widgetsnbextension~=3.5.0->ipywidgets~=7.6.5->medcat==1.5.0) (0.4.8)\n",
            "Requirement already satisfied: nbconvert>=5 in c:\\users\\stammers\\documents\\development\\medcat_demo\\medcat\\lib\\site-packages (from notebook>=4.4.1->widgetsnbextension~=3.5.0->ipywidgets~=7.6.5->medcat==1.5.0) (7.2.7)\n",
            "Requirement already satisfied: terminado>=0.8.3 in c:\\users\\stammers\\documents\\development\\medcat_demo\\medcat\\lib\\site-packages (from notebook>=4.4.1->widgetsnbextension~=3.5.0->ipywidgets~=7.6.5->medcat==1.5.0) (0.17.1)\n",
            "Requirement already satisfied: Send2Trash>=1.8.0 in c:\\users\\stammers\\documents\\development\\medcat_demo\\medcat\\lib\\site-packages (from notebook>=4.4.1->widgetsnbextension~=3.5.0->ipywidgets~=7.6.5->medcat==1.5.0) (1.8.0)\n",
            "Requirement already satisfied: argon2-cffi in c:\\users\\stammers\\documents\\development\\medcat_demo\\medcat\\lib\\site-packages (from notebook>=4.4.1->widgetsnbextension~=3.5.0->ipywidgets~=7.6.5->medcat==1.5.0) (21.3.0)\n",
            "Requirement already satisfied: prometheus-client in c:\\users\\stammers\\documents\\development\\medcat_demo\\medcat\\lib\\site-packages (from notebook>=4.4.1->widgetsnbextension~=3.5.0->ipywidgets~=7.6.5->medcat==1.5.0) (0.15.0)\n",
            "Requirement already satisfied: notebook-shim>=0.1.0 in c:\\users\\stammers\\documents\\development\\medcat_demo\\medcat\\lib\\site-packages (from nbclassic>=0.4.7->notebook>=4.4.1->widgetsnbextension~=3.5.0->ipywidgets~=7.6.5->medcat==1.5.0) (0.2.2)\n",
            "Requirement already satisfied: jupyter-server>=1.8 in c:\\users\\stammers\\documents\\development\\medcat_demo\\medcat\\lib\\site-packages (from nbclassic>=0.4.7->notebook>=4.4.1->widgetsnbextension~=3.5.0->ipywidgets~=7.6.5->medcat==1.5.0) (2.0.6)\n",
            "Requirement already satisfied: anyio<4,>=3.1.0 in c:\\users\\stammers\\documents\\development\\medcat_demo\\medcat\\lib\\site-packages (from jupyter-server>=1.8->nbclassic>=0.4.7->notebook>=4.4.1->widgetsnbextension~=3.5.0->ipywidgets~=7.6.5->medcat==1.5.0) (3.6.2)\n",
            "Requirement already satisfied: jupyter-server-terminals in c:\\users\\stammers\\documents\\development\\medcat_demo\\medcat\\lib\\site-packages (from jupyter-server>=1.8->nbclassic>=0.4.7->notebook>=4.4.1->widgetsnbextension~=3.5.0->ipywidgets~=7.6.5->medcat==1.5.0) (0.4.4)\n",
            "Requirement already satisfied: jupyter-events>=0.4.0 in c:\\users\\stammers\\documents\\development\\medcat_demo\\medcat\\lib\\site-packages (from jupyter-server>=1.8->nbclassic>=0.4.7->notebook>=4.4.1->widgetsnbextension~=3.5.0->ipywidgets~=7.6.5->medcat==1.5.0) (0.6.1)\n",
            "Requirement already satisfied: websocket-client in c:\\users\\stammers\\documents\\development\\medcat_demo\\medcat\\lib\\site-packages (from jupyter-server>=1.8->nbclassic>=0.4.7->notebook>=4.4.1->widgetsnbextension~=3.5.0->ipywidgets~=7.6.5->medcat==1.5.0) (1.4.2)\n",
            "Requirement already satisfied: pywinpty in c:\\users\\stammers\\documents\\development\\medcat_demo\\medcat\\lib\\site-packages (from jupyter-server>=1.8->nbclassic>=0.4.7->notebook>=4.4.1->widgetsnbextension~=3.5.0->ipywidgets~=7.6.5->medcat==1.5.0) (2.0.10)\n",
            "Requirement already satisfied: sniffio>=1.1 in c:\\users\\stammers\\documents\\development\\medcat_demo\\medcat\\lib\\site-packages (from anyio<4,>=3.1.0->jupyter-server>=1.8->nbclassic>=0.4.7->notebook>=4.4.1->widgetsnbextension~=3.5.0->ipywidgets~=7.6.5->medcat==1.5.0) (1.3.0)\n",
            "Requirement already satisfied: rfc3339-validator in c:\\users\\stammers\\documents\\development\\medcat_demo\\medcat\\lib\\site-packages (from jupyter-events>=0.4.0->jupyter-server>=1.8->nbclassic>=0.4.7->notebook>=4.4.1->widgetsnbextension~=3.5.0->ipywidgets~=7.6.5->medcat==1.5.0) (0.1.4)\n",
            "Requirement already satisfied: python-json-logger>=2.0.4 in c:\\users\\stammers\\documents\\development\\medcat_demo\\medcat\\lib\\site-packages (from jupyter-events>=0.4.0->jupyter-server>=1.8->nbclassic>=0.4.7->notebook>=4.4.1->widgetsnbextension~=3.5.0->ipywidgets~=7.6.5->medcat==1.5.0) (2.0.4)\n",
            "Requirement already satisfied: rfc3986-validator>=0.1.1 in c:\\users\\stammers\\documents\\development\\medcat_demo\\medcat\\lib\\site-packages (from jupyter-events>=0.4.0->jupyter-server>=1.8->nbclassic>=0.4.7->notebook>=4.4.1->widgetsnbextension~=3.5.0->ipywidgets~=7.6.5->medcat==1.5.0) (0.1.1)\n",
            "Requirement already satisfied: isoduration in c:\\users\\stammers\\documents\\development\\medcat_demo\\medcat\\lib\\site-packages (from jsonschema>=2.6->nbformat>=4.2.0->ipywidgets~=7.6.5->medcat==1.5.0) (20.11.0)\n",
            "Requirement already satisfied: uri-template in c:\\users\\stammers\\documents\\development\\medcat_demo\\medcat\\lib\\site-packages (from jsonschema>=2.6->nbformat>=4.2.0->ipywidgets~=7.6.5->medcat==1.5.0) (1.2.0)\n",
            "Requirement already satisfied: webcolors>=1.11 in c:\\users\\stammers\\documents\\development\\medcat_demo\\medcat\\lib\\site-packages (from jsonschema>=2.6->nbformat>=4.2.0->ipywidgets~=7.6.5->medcat==1.5.0) (1.12)\n",
            "Requirement already satisfied: fqdn in c:\\users\\stammers\\documents\\development\\medcat_demo\\medcat\\lib\\site-packages (from jsonschema>=2.6->nbformat>=4.2.0->ipywidgets~=7.6.5->medcat==1.5.0) (1.5.1)\n",
            "Requirement already satisfied: jsonpointer>1.13 in c:\\users\\stammers\\documents\\development\\medcat_demo\\medcat\\lib\\site-packages (from jsonschema>=2.6->nbformat>=4.2.0->ipywidgets~=7.6.5->medcat==1.5.0) (2.3)\n",
            "Requirement already satisfied: pandocfilters>=1.4.1 in c:\\users\\stammers\\documents\\development\\medcat_demo\\medcat\\lib\\site-packages (from nbconvert>=5->notebook>=4.4.1->widgetsnbextension~=3.5.0->ipywidgets~=7.6.5->medcat==1.5.0) (1.5.0)\n",
            "Requirement already satisfied: importlib-metadata>=3.6 in c:\\users\\stammers\\documents\\development\\medcat_demo\\medcat\\lib\\site-packages (from nbconvert>=5->notebook>=4.4.1->widgetsnbextension~=3.5.0->ipywidgets~=7.6.5->medcat==1.5.0) (6.0.0)\n",
            "Requirement already satisfied: mistune<3,>=2.0.3 in c:\\users\\stammers\\documents\\development\\medcat_demo\\medcat\\lib\\site-packages (from nbconvert>=5->notebook>=4.4.1->widgetsnbextension~=3.5.0->ipywidgets~=7.6.5->medcat==1.5.0) (2.0.4)\n",
            "Requirement already satisfied: bleach in c:\\users\\stammers\\documents\\development\\medcat_demo\\medcat\\lib\\site-packages (from nbconvert>=5->notebook>=4.4.1->widgetsnbextension~=3.5.0->ipywidgets~=7.6.5->medcat==1.5.0) (5.0.1)\n",
            "Requirement already satisfied: nbclient>=0.5.0 in c:\\users\\stammers\\documents\\development\\medcat_demo\\medcat\\lib\\site-packages (from nbconvert>=5->notebook>=4.4.1->widgetsnbextension~=3.5.0->ipywidgets~=7.6.5->medcat==1.5.0) (0.7.2)\n",
            "Requirement already satisfied: defusedxml in c:\\users\\stammers\\documents\\development\\medcat_demo\\medcat\\lib\\site-packages (from nbconvert>=5->notebook>=4.4.1->widgetsnbextension~=3.5.0->ipywidgets~=7.6.5->medcat==1.5.0) (0.7.1)\n",
            "Requirement already satisfied: markupsafe>=2.0 in c:\\users\\stammers\\documents\\development\\medcat_demo\\medcat\\lib\\site-packages (from nbconvert>=5->notebook>=4.4.1->widgetsnbextension~=3.5.0->ipywidgets~=7.6.5->medcat==1.5.0) (2.1.1)\n",
            "Requirement already satisfied: beautifulsoup4 in c:\\users\\stammers\\documents\\development\\medcat_demo\\medcat\\lib\\site-packages (from nbconvert>=5->notebook>=4.4.1->widgetsnbextension~=3.5.0->ipywidgets~=7.6.5->medcat==1.5.0) (4.11.1)\n",
            "Requirement already satisfied: tinycss2 in c:\\users\\stammers\\documents\\development\\medcat_demo\\medcat\\lib\\site-packages (from nbconvert>=5->notebook>=4.4.1->widgetsnbextension~=3.5.0->ipywidgets~=7.6.5->medcat==1.5.0) (1.2.1)\n",
            "Requirement already satisfied: jupyterlab-pygments in c:\\users\\stammers\\documents\\development\\medcat_demo\\medcat\\lib\\site-packages (from nbconvert>=5->notebook>=4.4.1->widgetsnbextension~=3.5.0->ipywidgets~=7.6.5->medcat==1.5.0) (0.2.2)\n",
            "Requirement already satisfied: argon2-cffi-bindings in c:\\users\\stammers\\documents\\development\\medcat_demo\\medcat\\lib\\site-packages (from argon2-cffi->notebook>=4.4.1->widgetsnbextension~=3.5.0->ipywidgets~=7.6.5->medcat==1.5.0) (21.2.0)\n",
            "Requirement already satisfied: cffi>=1.0.1 in c:\\users\\stammers\\documents\\development\\medcat_demo\\medcat\\lib\\site-packages (from argon2-cffi-bindings->argon2-cffi->notebook>=4.4.1->widgetsnbextension~=3.5.0->ipywidgets~=7.6.5->medcat==1.5.0) (1.15.1)\n",
            "Requirement already satisfied: pycparser in c:\\users\\stammers\\documents\\development\\medcat_demo\\medcat\\lib\\site-packages (from cffi>=1.0.1->argon2-cffi-bindings->argon2-cffi->notebook>=4.4.1->widgetsnbextension~=3.5.0->ipywidgets~=7.6.5->medcat==1.5.0) (2.21)\n",
            "Requirement already satisfied: soupsieve>1.2 in c:\\users\\stammers\\documents\\development\\medcat_demo\\medcat\\lib\\site-packages (from beautifulsoup4->nbconvert>=5->notebook>=4.4.1->widgetsnbextension~=3.5.0->ipywidgets~=7.6.5->medcat==1.5.0) (2.3.2.post1)\n",
            "Requirement already satisfied: webencodings in c:\\users\\stammers\\documents\\development\\medcat_demo\\medcat\\lib\\site-packages (from bleach->nbconvert>=5->notebook>=4.4.1->widgetsnbextension~=3.5.0->ipywidgets~=7.6.5->medcat==1.5.0) (0.5.1)\n",
            "Requirement already satisfied: arrow>=0.15.0 in c:\\users\\stammers\\documents\\development\\medcat_demo\\medcat\\lib\\site-packages (from isoduration->jsonschema>=2.6->nbformat>=4.2.0->ipywidgets~=7.6.5->medcat==1.5.0) (1.2.3)\n",
            "Requirement already satisfied: asttokens>=2.1.0 in c:\\users\\stammers\\documents\\development\\medcat_demo\\medcat\\lib\\site-packages (from stack-data->ipython>=4.0.0->ipywidgets~=7.6.5->medcat==1.5.0) (2.2.1)\n",
            "Requirement already satisfied: executing>=1.2.0 in c:\\users\\stammers\\documents\\development\\medcat_demo\\medcat\\lib\\site-packages (from stack-data->ipython>=4.0.0->ipywidgets~=7.6.5->medcat==1.5.0) (1.2.0)\n",
            "Requirement already satisfied: pure-eval in c:\\users\\stammers\\documents\\development\\medcat_demo\\medcat\\lib\\site-packages (from stack-data->ipython>=4.0.0->ipywidgets~=7.6.5->medcat==1.5.0) (0.2.2)\n"
          ]
        },
        {
          "name": "stderr",
          "output_type": "stream",
          "text": [
            "WARNING: You are using pip version 21.1.1; however, version 22.3.1 is available.\n",
            "You should consider upgrading via the 'c:\\users\\stammers\\documents\\development\\medcat_demo\\medcat\\scripts\\python.exe -m pip install --upgrade pip' command.\n"
          ]
        },
        {
          "name": "stdout",
          "output_type": "stream",
          "text": [
            "Collecting en-core-web-md==3.1.0\n",
            "  Downloading https://github.com/explosion/spacy-models/releases/download/en_core_web_md-3.1.0/en_core_web_md-3.1.0-py3-none-any.whl (45.4 MB)\n",
            "Requirement already satisfied: spacy<3.2.0,>=3.1.0 in c:\\users\\stammers\\documents\\development\\medcat_demo\\medcat\\lib\\site-packages (from en-core-web-md==3.1.0) (3.1.3)\n",
            "Requirement already satisfied: blis<0.8.0,>=0.4.0 in c:\\users\\stammers\\documents\\development\\medcat_demo\\medcat\\lib\\site-packages (from spacy<3.2.0,>=3.1.0->en-core-web-md==3.1.0) (0.7.5)\n",
            "Requirement already satisfied: wasabi<1.1.0,>=0.8.1 in c:\\users\\stammers\\documents\\development\\medcat_demo\\medcat\\lib\\site-packages (from spacy<3.2.0,>=3.1.0->en-core-web-md==3.1.0) (0.10.1)\n",
            "Requirement already satisfied: spacy-legacy<3.1.0,>=3.0.8 in c:\\users\\stammers\\documents\\development\\medcat_demo\\medcat\\lib\\site-packages (from spacy<3.2.0,>=3.1.0->en-core-web-md==3.1.0) (3.0.11)\n",
            "Requirement already satisfied: srsly<3.0.0,>=2.4.1 in c:\\users\\stammers\\documents\\development\\medcat_demo\\medcat\\lib\\site-packages (from spacy<3.2.0,>=3.1.0->en-core-web-md==3.1.0) (2.4.5)\n",
            "Requirement already satisfied: requests<3.0.0,>=2.13.0 in c:\\users\\stammers\\documents\\development\\medcat_demo\\medcat\\lib\\site-packages (from spacy<3.2.0,>=3.1.0->en-core-web-md==3.1.0) (2.28.1)\n",
            "Requirement already satisfied: cymem<2.1.0,>=2.0.2 in c:\\users\\stammers\\documents\\development\\medcat_demo\\medcat\\lib\\site-packages (from spacy<3.2.0,>=3.1.0->en-core-web-md==3.1.0) (2.0.7)\n",
            "Requirement already satisfied: pydantic!=1.8,!=1.8.1,<1.9.0,>=1.7.4 in c:\\users\\stammers\\documents\\development\\medcat_demo\\medcat\\lib\\site-packages (from spacy<3.2.0,>=3.1.0->en-core-web-md==3.1.0) (1.8.2)\n",
            "Requirement already satisfied: tqdm<5.0.0,>=4.38.0 in c:\\users\\stammers\\documents\\development\\medcat_demo\\medcat\\lib\\site-packages (from spacy<3.2.0,>=3.1.0->en-core-web-md==3.1.0) (4.64.1)\n",
            "Requirement already satisfied: typer<0.5.0,>=0.3.0 in c:\\users\\stammers\\documents\\development\\medcat_demo\\medcat\\lib\\site-packages (from spacy<3.2.0,>=3.1.0->en-core-web-md==3.1.0) (0.4.2)\n",
            "Requirement already satisfied: setuptools in c:\\users\\stammers\\documents\\development\\medcat_demo\\medcat\\lib\\site-packages (from spacy<3.2.0,>=3.1.0->en-core-web-md==3.1.0) (56.0.0)\n",
            "Requirement already satisfied: thinc<8.1.0,>=8.0.9 in c:\\users\\stammers\\documents\\development\\medcat_demo\\medcat\\lib\\site-packages (from spacy<3.2.0,>=3.1.0->en-core-web-md==3.1.0) (8.0.17)\n",
            "Requirement already satisfied: catalogue<2.1.0,>=2.0.6 in c:\\users\\stammers\\documents\\development\\medcat_demo\\medcat\\lib\\site-packages (from spacy<3.2.0,>=3.1.0->en-core-web-md==3.1.0) (2.0.8)\n",
            "Requirement already satisfied: packaging>=20.0 in c:\\users\\stammers\\documents\\development\\medcat_demo\\medcat\\lib\\site-packages (from spacy<3.2.0,>=3.1.0->en-core-web-md==3.1.0) (23.0)\n",
            "Requirement already satisfied: pathy>=0.3.5 in c:\\users\\stammers\\documents\\development\\medcat_demo\\medcat\\lib\\site-packages (from spacy<3.2.0,>=3.1.0->en-core-web-md==3.1.0) (0.10.1)\n",
            "Requirement already satisfied: preshed<3.1.0,>=3.0.2 in c:\\users\\stammers\\documents\\development\\medcat_demo\\medcat\\lib\\site-packages (from spacy<3.2.0,>=3.1.0->en-core-web-md==3.1.0) (3.0.8)\n",
            "Requirement already satisfied: murmurhash<1.1.0,>=0.28.0 in c:\\users\\stammers\\documents\\development\\medcat_demo\\medcat\\lib\\site-packages (from spacy<3.2.0,>=3.1.0->en-core-web-md==3.1.0) (1.0.9)\n",
            "Requirement already satisfied: numpy>=1.15.0 in c:\\users\\stammers\\documents\\development\\medcat_demo\\medcat\\lib\\site-packages (from spacy<3.2.0,>=3.1.0->en-core-web-md==3.1.0) (1.24.1)\n",
            "Requirement already satisfied: jinja2 in c:\\users\\stammers\\documents\\development\\medcat_demo\\medcat\\lib\\site-packages (from spacy<3.2.0,>=3.1.0->en-core-web-md==3.1.0) (3.1.2)\n",
            "Requirement already satisfied: smart-open<7.0.0,>=5.2.1 in c:\\users\\stammers\\documents\\development\\medcat_demo\\medcat\\lib\\site-packages (from pathy>=0.3.5->spacy<3.2.0,>=3.1.0->en-core-web-md==3.1.0) (5.2.1)\n",
            "Requirement already satisfied: typing-extensions>=3.7.4.3 in c:\\users\\stammers\\documents\\development\\medcat_demo\\medcat\\lib\\site-packages (from pydantic!=1.8,!=1.8.1,<1.9.0,>=1.7.4->spacy<3.2.0,>=3.1.0->en-core-web-md==3.1.0) (4.4.0)\n",
            "Requirement already satisfied: charset-normalizer<3,>=2 in c:\\users\\stammers\\documents\\development\\medcat_demo\\medcat\\lib\\site-packages (from requests<3.0.0,>=2.13.0->spacy<3.2.0,>=3.1.0->en-core-web-md==3.1.0) (2.1.1)\n",
            "Requirement already satisfied: idna<4,>=2.5 in c:\\users\\stammers\\documents\\development\\medcat_demo\\medcat\\lib\\site-packages (from requests<3.0.0,>=2.13.0->spacy<3.2.0,>=3.1.0->en-core-web-md==3.1.0) (3.4)\n",
            "Requirement already satisfied: urllib3<1.27,>=1.21.1 in c:\\users\\stammers\\documents\\development\\medcat_demo\\medcat\\lib\\site-packages (from requests<3.0.0,>=2.13.0->spacy<3.2.0,>=3.1.0->en-core-web-md==3.1.0) (1.26.13)\n",
            "Requirement already satisfied: certifi>=2017.4.17 in c:\\users\\stammers\\documents\\development\\medcat_demo\\medcat\\lib\\site-packages (from requests<3.0.0,>=2.13.0->spacy<3.2.0,>=3.1.0->en-core-web-md==3.1.0) (2022.12.7)\n",
            "Requirement already satisfied: colorama in c:\\users\\stammers\\documents\\development\\medcat_demo\\medcat\\lib\\site-packages (from tqdm<5.0.0,>=4.38.0->spacy<3.2.0,>=3.1.0->en-core-web-md==3.1.0) (0.4.6)\n",
            "Requirement already satisfied: click<9.0.0,>=7.1.1 in c:\\users\\stammers\\documents\\development\\medcat_demo\\medcat\\lib\\site-packages (from typer<0.5.0,>=0.3.0->spacy<3.2.0,>=3.1.0->en-core-web-md==3.1.0) (8.0.4)\n",
            "Requirement already satisfied: MarkupSafe>=2.0 in c:\\users\\stammers\\documents\\development\\medcat_demo\\medcat\\lib\\site-packages (from jinja2->spacy<3.2.0,>=3.1.0->en-core-web-md==3.1.0) (2.1.1)\n",
            "Installing collected packages: en-core-web-md\n",
            "Successfully installed en-core-web-md-3.1.0\n",
            "✔ Download and installation successful\n",
            "You can now load the package via spacy.load('en_core_web_md')\n"
          ]
        },
        {
          "name": "stderr",
          "output_type": "stream",
          "text": [
            "WARNING: You are using pip version 21.1.1; however, version 22.3.1 is available.\n",
            "You should consider upgrading via the 'c:\\Users\\Stammers\\Documents\\Development\\MedCAT_Demo\\medcat\\Scripts\\python.exe -m pip install --upgrade pip' command.\n",
            "c:\\Users\\Stammers\\Documents\\Development\\MedCAT_Demo\\medcat\\lib\\site-packages\\medcat\\cat.py:18: TqdmExperimentalWarning: Using `tqdm.autonotebook.tqdm` in notebook mode. Use `tqdm.tqdm` instead to force console mode (e.g. in jupyter console)\n",
            "  from tqdm.autonotebook import tqdm, trange\n"
          ]
        }
      ],
      "source": [
        "# Install MedCAT\n",
        "! pip install medcat==1.5.0\n",
        "# Get the scispacy model\n",
        "! python -m spacy download en_core_web_md\n",
        "try:\n",
        "    from medcat.cat import CAT\n",
        "except:\n",
        "    print(\"WARNING: Runtime will restart automatically and please run other cells thereafter.\")\n",
        "    exit()"
      ]
    },
    {
      "cell_type": "markdown",
      "metadata": {
        "id": "LWScf8BW0BpY"
      },
      "source": [
        "**Restart the runtime if on colab, sometimes necessary after installing models**"
      ]
    },
    {
      "cell_type": "code",
      "execution_count": 2,
      "metadata": {
        "id": "KByaUPYNk7gk"
      },
      "outputs": [],
      "source": [
        "import pandas as pd\n",
        "import numpy as np\n",
        "\n",
        "from medcat.vocab import Vocab\n",
        "from medcat.cdb import CDB\n",
        "from medcat.config import Config\n",
        "from medcat.cdb_maker import CDBMaker\n",
        "from medcat.cat import CAT"
      ]
    },
    {
      "cell_type": "code",
      "execution_count": 13,
      "metadata": {
        "id": "kKgZTiZxk7gp"
      },
      "outputs": [],
      "source": [
        "DATA_DIR = \"./DATA_DIR/\""
      ]
    },
    {
      "cell_type": "markdown",
      "metadata": {
        "id": "Kj24ZU79D-xE"
      },
      "source": [
        "# MedCAT Components\n",
        "The medcat model requires 3 model components to run.\n",
        "1. Vocab\n",
        "2. CDB\n",
        "3. Config (cdb configuration)"
      ]
    },
    {
      "cell_type": "markdown",
      "metadata": {
        "id": "9POZ_dwsk7gu"
      },
      "source": [
        "## Building a Vocabulary\n",
        "\n",
        "The first of the two required models when running MedCAT is a Vocabulary model (Vocab). The model is used for two things: (1) Spell checking; and (2) Word Embedding. \n",
        "\n",
        "The Vocab is very simple and you can easily build it from a file that is structured as below:\n",
        "```\n",
        "<token>\\t<word_count>\\t<vector_embedding_separated_by_spaces>\n",
        "```\n",
        "`token` - Usually a word or subword if you are using Byte Pair Encoding or something similar.\n",
        "\n",
        "`word_count` - The count for this word in your dataset or in any large dataset (wikipedia also works nicely).\n",
        "\n",
        "`vector_embedding_separated_by_spaces` - precalculated vector embedding, can be from Word2Vec or BERT.\n",
        "\n",
        "---\n",
        "An example with 3-dimension embedding would be:\n",
        "```\n",
        "house\t34444\t 0.3232 0.123213 1.231231\n",
        "dog\t14444\t0.76762 0.76767 1.45454\n",
        ".\n",
        ".\n",
        ".\n",
        "```\n",
        "The file is basically a TSV, but should not have any heading. \n",
        "\n",
        "---\n",
        "\n",
        "**NOTE**: If spelling is important for your use-case, take care that there are no misspelt words in the Vocab."
      ]
    },
    {
      "cell_type": "code",
      "execution_count": 6,
      "metadata": {
        "id": "OgMSGHyhk7gv"
      },
      "outputs": [
        {
          "ename": "FileNotFoundError",
          "evalue": "[Errno 2] No such file or directory: './data_p3.1/vocab_data.txt'",
          "output_type": "error",
          "traceback": [
            "\u001b[1;31m---------------------------------------------------------------------------\u001b[0m",
            "\u001b[1;31mFileNotFoundError\u001b[0m                         Traceback (most recent call last)",
            "Cell \u001b[1;32mIn[6], line 5\u001b[0m\n\u001b[0;32m      1\u001b[0m \u001b[39m# Let's have a look at an example, I've created a small vocabulary with only 2 words (the ones from above)\u001b[39;00m\n\u001b[0;32m      2\u001b[0m \u001b[39m# Let's try to create a vocabulary from this two words.\u001b[39;00m\n\u001b[0;32m      4\u001b[0m vocab \u001b[39m=\u001b[39m Vocab()\n\u001b[1;32m----> 5\u001b[0m vocab\u001b[39m.\u001b[39;49madd_words(DATA_DIR \u001b[39m+\u001b[39;49m\u001b[39m'\u001b[39;49m\u001b[39mvocab_data.txt\u001b[39;49m\u001b[39m'\u001b[39;49m, replace\u001b[39m=\u001b[39;49m\u001b[39mTrue\u001b[39;49;00m)\n",
            "File \u001b[1;32mc:\\Users\\Stammers\\Documents\\Development\\MedCAT_Demo\\medcat\\lib\\site-packages\\medcat\\vocab.py:165\u001b[0m, in \u001b[0;36mVocab.add_words\u001b[1;34m(self, path, replace)\u001b[0m\n\u001b[0;32m    151\u001b[0m \u001b[39mdef\u001b[39;00m \u001b[39madd_words\u001b[39m(\u001b[39mself\u001b[39m, path: \u001b[39mstr\u001b[39m, replace: \u001b[39mbool\u001b[39m \u001b[39m=\u001b[39m \u001b[39mTrue\u001b[39;00m) \u001b[39m-\u001b[39m\u001b[39m>\u001b[39m \u001b[39mNone\u001b[39;00m:\n\u001b[0;32m    152\u001b[0m \u001b[39m    \u001b[39m\u001b[39m\"\"\"Adds words to the vocab from a file, the file\u001b[39;00m\n\u001b[0;32m    153\u001b[0m \u001b[39m    is required to have the following format (vec being optional):\u001b[39;00m\n\u001b[0;32m    154\u001b[0m \u001b[39m        <word>\\t<cnt>[\\t<vec_space_separated>]\u001b[39;00m\n\u001b[1;32m   (...)\u001b[0m\n\u001b[0;32m    163\u001b[0m \u001b[39m            existing words in the vocabulary will be replaced\u001b[39;00m\n\u001b[0;32m    164\u001b[0m \u001b[39m    \"\"\"\u001b[39;00m\n\u001b[1;32m--> 165\u001b[0m     \u001b[39mwith\u001b[39;00m \u001b[39mopen\u001b[39;49m(path) \u001b[39mas\u001b[39;00m f:\n\u001b[0;32m    166\u001b[0m         \u001b[39mfor\u001b[39;00m line \u001b[39min\u001b[39;00m f:\n\u001b[0;32m    167\u001b[0m             parts \u001b[39m=\u001b[39m line\u001b[39m.\u001b[39msplit(\u001b[39m\"\u001b[39m\u001b[39m\\t\u001b[39;00m\u001b[39m\"\u001b[39m)\n",
            "\u001b[1;31mFileNotFoundError\u001b[0m: [Errno 2] No such file or directory: './data_p3.1/vocab_data.txt'"
          ]
        }
      ],
      "source": [
        "# Let's have a look at an example, I've created a small vocabulary with only 2 words (the ones from above)\n",
        "# Let's try to create a vocabulary from this two words.\n",
        "\n",
        "vocab = Vocab()\n",
        "vocab.add_words(DATA_DIR +'vocab_data.txt', replace=True)"
      ]
    },
    {
      "cell_type": "markdown",
      "metadata": {
        "id": "xPl6ghXUk7gy"
      },
      "source": [
        "**And that is everything, with this we have built our vocab and no futher training is necessary.**\n",
        "\n",
        "---\n",
        "\n",
        "A couple of useful functions of the vocab are presented below"
      ]
    },
    {
      "cell_type": "code",
      "execution_count": 14,
      "metadata": {
        "colab": {
          "base_uri": "https://localhost:8080/"
        },
        "id": "HeVMPs5Zk7gy",
        "outputId": "3f5bc7da-1958-402c-da80-3ce3fba9d860"
      },
      "outputs": [
        {
          "data": {
            "text/plain": [
              "dict_keys(['test'])"
            ]
          },
          "execution_count": 14,
          "metadata": {},
          "output_type": "execute_result"
        }
      ],
      "source": [
        "# To see the words in the vocab\n",
        "vocab.vocab.keys()"
      ]
    },
    {
      "cell_type": "code",
      "execution_count": 15,
      "metadata": {
        "colab": {
          "base_uri": "https://localhost:8080/"
        },
        "id": "TofkHoHo0XKU",
        "outputId": "14b5257e-63d4-4eb4-f743-0afea32ffa51"
      },
      "outputs": [
        {
          "data": {
            "text/plain": [
              "{'test': {'vec': array([1.42, 1.44, 1.55]), 'cnt': 31, 'ind': 0}}"
            ]
          },
          "execution_count": 15,
          "metadata": {},
          "output_type": "execute_result"
        }
      ],
      "source": [
        "vocab.vocab"
      ]
    },
    {
      "cell_type": "code",
      "execution_count": 16,
      "metadata": {
        "colab": {
          "base_uri": "https://localhost:8080/"
        },
        "id": "SclVqlDgk7g2",
        "outputId": "63cb7ed9-0f50-402c-f6e3-2c49edaa4354"
      },
      "outputs": [
        {
          "data": {
            "text/plain": [
              "dict_keys(['test'])"
            ]
          },
          "execution_count": 16,
          "metadata": {},
          "output_type": "execute_result"
        }
      ],
      "source": [
        "# If you want to add words manually (one by one) use:\n",
        "vocab.add_word(\"test\", cnt=31, vec=np.array([1.42, 1.44, 1.55]), replace=True)\n",
        "vocab.vocab.keys()"
      ]
    },
    {
      "cell_type": "code",
      "execution_count": 18,
      "metadata": {
        "colab": {
          "base_uri": "https://localhost:8080/"
        },
        "id": "JnCgpKrEk7g5",
        "outputId": "b5ca8d86-fa73-48d8-adbf-1fc86f1d8ba7"
      },
      "outputs": [
        {
          "data": {
            "text/plain": [
              "array([1.42, 1.44, 1.55])"
            ]
          },
          "execution_count": 18,
          "metadata": {},
          "output_type": "execute_result"
        }
      ],
      "source": [
        "# To get a vector of word use:\n",
        "vocab.vec(\"test\")"
      ]
    },
    {
      "cell_type": "code",
      "execution_count": 19,
      "metadata": {
        "colab": {
          "base_uri": "https://localhost:8080/"
        },
        "id": "bO4IEvrJk7g8",
        "outputId": "62e12cad-e80e-4083-a11a-ec53b8ec3a19"
      },
      "outputs": [
        {
          "data": {
            "text/plain": [
              "31"
            ]
          },
          "execution_count": 19,
          "metadata": {},
          "output_type": "execute_result"
        }
      ],
      "source": [
        "# Or to get the count\n",
        "vocab['test']"
      ]
    },
    {
      "cell_type": "code",
      "execution_count": 20,
      "metadata": {
        "colab": {
          "base_uri": "https://localhost:8080/"
        },
        "id": "fLg63Z9Yk7g-",
        "outputId": "c63b0160-b7ea-4fdf-98a9-96a31ab744be"
      },
      "outputs": [
        {
          "data": {
            "text/plain": [
              "False"
            ]
          },
          "execution_count": 20,
          "metadata": {},
          "output_type": "execute_result"
        }
      ],
      "source": [
        "# To check if a word is in the vocab:\n",
        "\"house\" in vocab"
      ]
    },
    {
      "cell_type": "markdown",
      "metadata": {
        "id": "xG3FCinSl_Sq"
      },
      "source": [
        "### Before we save the vocab model, we need to create the unigram table for negative sampling"
      ]
    },
    {
      "cell_type": "code",
      "execution_count": 21,
      "metadata": {
        "id": "wdC8eennmSM4"
      },
      "outputs": [],
      "source": [
        "# This is necessary after each change of the vocabulary (when we add new words)\n",
        "vocab.make_unigram_table()"
      ]
    },
    {
      "cell_type": "markdown",
      "metadata": {
        "id": "o6itJcEXk7hA"
      },
      "source": [
        "### Save the Vocab model"
      ]
    },
    {
      "cell_type": "code",
      "execution_count": 23,
      "metadata": {
        "id": "RgRtW7eqk7hB"
      },
      "outputs": [
        {
          "ename": "FileNotFoundError",
          "evalue": "[Errno 2] No such file or directory: './DATA_DOR/vocab.dat'",
          "output_type": "error",
          "traceback": [
            "\u001b[1;31m---------------------------------------------------------------------------\u001b[0m",
            "\u001b[1;31mFileNotFoundError\u001b[0m                         Traceback (most recent call last)",
            "Cell \u001b[1;32mIn[23], line 1\u001b[0m\n\u001b[1;32m----> 1\u001b[0m vocab\u001b[39m.\u001b[39;49msave(DATA_DIR \u001b[39m+\u001b[39;49m \u001b[39m\"\u001b[39;49m\u001b[39mvocab.dat\u001b[39;49m\u001b[39m\"\u001b[39;49m)\n",
            "File \u001b[1;32mc:\\Users\\Stammers\\Documents\\Development\\MedCAT_Demo\\medcat\\lib\\site-packages\\medcat\\vocab.py:241\u001b[0m, in \u001b[0;36mVocab.save\u001b[1;34m(self, path)\u001b[0m\n\u001b[0;32m    240\u001b[0m \u001b[39mdef\u001b[39;00m \u001b[39msave\u001b[39m(\u001b[39mself\u001b[39m, path: \u001b[39mstr\u001b[39m) \u001b[39m-\u001b[39m\u001b[39m>\u001b[39m \u001b[39mNone\u001b[39;00m:\n\u001b[1;32m--> 241\u001b[0m     \u001b[39mwith\u001b[39;00m \u001b[39mopen\u001b[39;49m(path, \u001b[39m'\u001b[39;49m\u001b[39mwb\u001b[39;49m\u001b[39m'\u001b[39;49m) \u001b[39mas\u001b[39;00m f:\n\u001b[0;32m    242\u001b[0m         pickle\u001b[39m.\u001b[39mdump(\u001b[39mself\u001b[39m\u001b[39m.\u001b[39m\u001b[39m__dict__\u001b[39m, f)\n",
            "\u001b[1;31mFileNotFoundError\u001b[0m: [Errno 2] No such file or directory: './DATA_DOR/vocab.dat'"
          ]
        }
      ],
      "source": [
        "vocab.save(DATA_DIR + \"vocab.dat\")"
      ]
    },
    {
      "cell_type": "markdown",
      "metadata": {
        "id": "-YBbwcNUk7hD"
      },
      "source": [
        "### Load the Vocab model"
      ]
    },
    {
      "cell_type": "code",
      "execution_count": null,
      "metadata": {
        "id": "o_tOsE6ak7hE"
      },
      "outputs": [],
      "source": [
        "vocab = Vocab.load(DATA_DIR + \"vocab.dat\")"
      ]
    },
    {
      "cell_type": "markdown",
      "metadata": {
        "id": "ptRmHln9k7hG"
      },
      "source": [
        "## Building the Concept Database (CDB)\n",
        "\n",
        "The second model we are going to need when using MedCAT is the Concept Database (CDB). This database holds a list of all concepts that we would like to detect and link to. For a lot of medical use-cases we would use giant databases like the UMLS or SNOMED CT. However, MedCAT can be used with any database no matter how big/small it is. \n",
        "\n",
        "To prepare the CDB we start off with a CSV with the following structure:\n",
        "```\n",
        "cui,name\n",
        "1,kidney failure\n",
        "7,CoVid 2\n",
        "7,coronavirus\n",
        "```\n",
        "This is the most basic version of the CSV file, it has only:\n",
        "\n",
        "`cui` - The concept unique identifier, this is simply an `ID` in your database.\n",
        "\n",
        "`name` - String/Name of that concept. It is important to write all possible names and abbreviations for a concept of interest.\n",
        "\n",
        "If you have a concept that can be recognised through multiple different names (like the one above with cui=7), you can simply add multiple rows with the same concept ID and MedCAT will merge that during the build phase.\n",
        "\n",
        "## The Full CSV Specification\n",
        "```\n",
        "cui,name,ontologies,name_status,type_ids,description\n",
        "1,Kidney Failure,SNOMED,P,T047,kidneys stop working\n",
        ".\n",
        ".\n",
        ".\n",
        "```\n",
        "The rest of the fields are optional, each can be included or left out in your CSV:\n",
        "\n",
        "`ontologies` - Source ontology, e.g. HPO, SNOMED, HPC,...\n",
        "\n",
        "`name_status` - Term type e.g. P - Primary Name. Primary names are important and I would always recommend to add this fields when creating your CDB. This will help distinguish between synonyms.\n",
        "\n",
        "`type_ids` - Type Ids are the broad category in which a concept may fall under. This is used to rapidly filter for concepts which fall under a specific category. In UMLS this could be the Semantic type identifier - e.g. T047 (taken from UMLS). A list of all semantic types can be found [here](https://metamap.nlm.nih.gov/Docs/SemanticTypes_2018AB.txt).\n",
        "In SNOMED one could use the Semantic tags. E.g (Disease). A list of all Snomed semantic tags can be found [here](https://confluence.ihtsdotools.org/display/DOCGLOSS/semantic+tag).\n",
        "\n",
        "\n",
        "`description` - Description of this concept\n",
        "\n",
        "***Note***: If one concept has multiple names, you can also separate the different names by a \"|\" - pipe - symbol "
      ]
    },
    {
      "cell_type": "code",
      "execution_count": null,
      "metadata": {
        "id": "y5IR-xFO4oph"
      },
      "outputs": [],
      "source": [
        "cdb_simple = pd.read_csv(DATA_DIR + 'cdb_simple.csv')\n"
      ]
    },
    {
      "cell_type": "code",
      "execution_count": null,
      "metadata": {
        "colab": {
          "base_uri": "https://localhost:8080/",
          "height": 118
        },
        "id": "tHr26s3s4vJN",
        "outputId": "60bfd389-347a-44d4-bbe1-ab181eadda96"
      },
      "outputs": [
        {
          "data": {
            "text/html": [
              "\n",
              " <div id=\"df-ae93431c-02e2-4ae1-b07d-6d519a94cb10\">\n",
              " <div class=\"colab-df-container\">\n",
              " <div>\n",
              "<style scoped>\n",
              " .dataframe tbody tr th:only-of-type {\n",
              " vertical-align: middle;\n",
              " }\n",
              "\n",
              " .dataframe tbody tr th {\n",
              " vertical-align: top;\n",
              " }\n",
              "\n",
              " .dataframe thead th {\n",
              " text-align: right;\n",
              " }\n",
              "</style>\n",
              "<table border=\"1\" class=\"dataframe\">\n",
              " <thead>\n",
              " <tr style=\"text-align: right;\">\n",
              " <th></th>\n",
              " <th>cui</th>\n",
              " <th>name</th>\n",
              " </tr>\n",
              " </thead>\n",
              " <tbody>\n",
              " <tr>\n",
              " <th>0</th>\n",
              " <td>1</td>\n",
              " <td>kidney failure</td>\n",
              " </tr>\n",
              " <tr>\n",
              " <th>1</th>\n",
              " <td>7</td>\n",
              " <td>CoVid 2</td>\n",
              " </tr>\n",
              " <tr>\n",
              " <th>2</th>\n",
              " <td>7</td>\n",
              " <td>coronavirus</td>\n",
              " </tr>\n",
              " </tbody>\n",
              "</table>\n",
              "</div>\n",
              " <button class=\"colab-df-convert\" onclick=\"convertToInteractive('df-ae93431c-02e2-4ae1-b07d-6d519a94cb10')\"\n",
              " title=\"Convert this dataframe to an interactive table.\"\n",
              " style=\"display:none;\">\n",
              " \n",
              " <svg xmlns=\"http://www.w3.org/2000/svg\" height=\"24px\"viewBox=\"0 0 24 24\"\n",
              " width=\"24px\">\n",
              " <path d=\"M0 0h24v24H0V0z\" fill=\"none\"/>\n",
              " <path d=\"M18.56 5.44l.94 2.06.94-2.06 2.06-.94-2.06-.94-.94-2.06-.94 2.06-2.06.94zm-11 1L8.5 8.5l.94-2.06 2.06-.94-2.06-.94L8.5 2.5l-.94 2.06-2.06.94zm10 10l.94 2.06.94-2.06 2.06-.94-2.06-.94-.94-2.06-.94 2.06-2.06.94z\"/><path d=\"M17.41 7.96l-1.37-1.37c-.4-.4-.92-.59-1.43-.59-.52 0-1.04.2-1.43.59L10.3 9.45l-7.72 7.72c-.78.78-.78 2.05 0 2.83L4 21.41c.39.39.9.59 1.41.59.51 0 1.02-.2 1.41-.59l7.78-7.78 2.81-2.81c.8-.78.8-2.07 0-2.86zM5.41 20L4 18.59l7.72-7.72 1.47 1.35L5.41 20z\"/>\n",
              " </svg>\n",
              " </button>\n",
              " \n",
              " <style>\n",
              " .colab-df-container {\n",
              " display:flex;\n",
              " flex-wrap:wrap;\n",
              " gap: 12px;\n",
              " }\n",
              "\n",
              " .colab-df-convert {\n",
              " background-color: #E8F0FE;\n",
              " border: none;\n",
              " border-radius: 50%;\n",
              " cursor: pointer;\n",
              " display: none;\n",
              " fill: #1967D2;\n",
              " height: 32px;\n",
              " padding: 0 0 0 0;\n",
              " width: 32px;\n",
              " }\n",
              "\n",
              " .colab-df-convert:hover {\n",
              " background-color: #E2EBFA;\n",
              " box-shadow: 0px 1px 2px rgba(60, 64, 67, 0.3), 0px 1px 3px 1px rgba(60, 64, 67, 0.15);\n",
              " fill: #174EA6;\n",
              " }\n",
              "\n",
              " [theme=dark] .colab-df-convert {\n",
              " background-color: #3B4455;\n",
              " fill: #D2E3FC;\n",
              " }\n",
              "\n",
              " [theme=dark] .colab-df-convert:hover {\n",
              " background-color: #434B5C;\n",
              " box-shadow: 0px 1px 3px 1px rgba(0, 0, 0, 0.15);\n",
              " filter: drop-shadow(0px 1px 2px rgba(0, 0, 0, 0.3));\n",
              " fill: #FFFFFF;\n",
              " }\n",
              " </style>\n",
              "\n",
              " <script>\n",
              " const buttonEl =\n",
              " document.querySelector('#df-ae93431c-02e2-4ae1-b07d-6d519a94cb10 button.colab-df-convert');\n",
              " buttonEl.style.display =\n",
              " google.colab.kernel.accessAllowed ? 'block' : 'none';\n",
              "\n",
              " async function convertToInteractive(key) {\n",
              " const element = document.querySelector('#df-ae93431c-02e2-4ae1-b07d-6d519a94cb10');\n",
              " const dataTable =\n",
              " await google.colab.kernel.invokeFunction('convertToInteractive',\n",
              " [key], {});\n",
              " if (!dataTable) return;\n",
              "\n",
              " const docLinkHtml = 'Like what you see? Visit the ' +\n",
              " '<a target=\"_blank\" href=https://colab.research.google.com/notebooks/data_table.ipynb>data table notebook</a>'\n",
              " + ' to learn more about interactive tables.';\n",
              " element.innerHTML = '';\n",
              " dataTable['output_type'] = 'display_data';\n",
              " await google.colab.output.renderOutput(dataTable, element);\n",
              " const docLink = document.createElement('div');\n",
              " docLink.innerHTML = docLinkHtml;\n",
              " element.appendChild(docLink);\n",
              " }\n",
              " </script>\n",
              " </div>\n",
              " </div>\n",
              " "
            ],
            "text/plain": [
              " cui name\n",
              "0 1 kidney failure\n",
              "1 7 CoVid 2\n",
              "2 7 coronavirus"
            ]
          },
          "execution_count": 15,
          "metadata": {},
          "output_type": "execute_result"
        }
      ],
      "source": [
        "cdb_simple"
      ]
    },
    {
      "cell_type": "markdown",
      "metadata": {
        "id": "Rasu5PajojYZ"
      },
      "source": [
        "Let's try building our own concept databse from a simple CSV"
      ]
    },
    {
      "cell_type": "code",
      "execution_count": null,
      "metadata": {
        "id": "y75WVeca08z3"
      },
      "outputs": [],
      "source": [
        "# First initialise the default configuration\n",
        "config = Config()\n",
        "config.general['spacy_model'] = 'en_core_web_md'\n",
        "maker = CDBMaker(config)"
      ]
    },
    {
      "cell_type": "code",
      "execution_count": null,
      "metadata": {
        "colab": {
          "base_uri": "https://localhost:8080/"
        },
        "id": "op5-LDOfk7hH",
        "outputId": "253f5a44-5a1c-4d5b-8832-c7823b988092"
      },
      "outputs": [
        {
          "name": "stderr",
          "output_type": "stream",
          "text": [
            "INFO:medcat:Started importing concepts from: ./data/cdb_advanced.csv\n",
            "INFO:medcat:Current progress: 0% at 0.000s per 0 rows\n",
            "INFO:medcat:Current progress: 50% at 0.012s per 0 rows\n",
            "INFO:medcat:Started importing concepts from: ./data/cdb_simple.csv\n",
            "INFO:medcat:Current progress: 0% at 0.000s per 0 rows\n",
            "INFO:medcat:Current progress: 33% at 0.007s per 0 rows\n",
            "INFO:medcat:Current progress: 67% at 0.008s per 0 rows\n"
          ]
        }
      ],
      "source": [
        "# Create an array containing CSV files that will be used to build our CDB\n",
        "csv_path = [ DATA_DIR + 'cdb_advanced.csv', DATA_DIR + 'cdb_simple.csv',]\n",
        "\n",
        "# Create your CDB\n",
        "cdb = maker.prepare_csvs(csv_path, full_build=True)"
      ]
    },
    {
      "cell_type": "markdown",
      "metadata": {
        "id": "08agsFBnk7hQ"
      },
      "source": [
        "**That is all, nothing else is necessary to build the CDB**\n",
        "\n",
        "---\n",
        "\n",
        "Some useful functions of the cdb are below"
      ]
    },
    {
      "cell_type": "code",
      "execution_count": null,
      "metadata": {
        "colab": {
          "base_uri": "https://localhost:8080/"
        },
        "id": "lwlOBilek7hJ",
        "outputId": "664c799b-4c5a-46e2-987a-2565b757936e"
      },
      "outputs": [
        {
          "name": "stdout",
          "output_type": "stream",
          "text": [
            "{'kidney~failure': ['1'], 'failure~of~kidneys': ['1'], 'failure~of~kidney': ['1'], 'kf': ['1'], 'k~.~failure': ['1'], 'covid~2': ['7'], 'coronavirus': ['7']}\n"
          ]
        }
      ],
      "source": [
        "# To display all names and cui in the db\n",
        "print(cdb.name2cuis)"
      ]
    },
    {
      "cell_type": "code",
      "execution_count": null,
      "metadata": {
        "colab": {
          "base_uri": "https://localhost:8080/"
        },
        "id": "uD3AYqqkk7hQ",
        "outputId": "9cf3660a-82ff-4844-c038-2cd02c02f1c8"
      },
      "outputs": [
        {
          "name": "stdout",
          "output_type": "stream",
          "text": [
            "{'1': {'failure~of~kidneys', 'kf', 'kidney~failure', 'k~.~failure', 'failure~of~kidney'}, '7': {'covid~2', 'coronavirus'}}\n"
          ]
        }
      ],
      "source": [
        "# To display all unique cuis and corresponding names in the db \n",
        "print(cdb.cui2names)"
      ]
    },
    {
      "cell_type": "code",
      "execution_count": null,
      "metadata": {
        "colab": {
          "base_uri": "https://localhost:8080/"
        },
        "id": "GWTRmz_duRT2",
        "outputId": "150f6d69-3a07-4aa9-a963-62c1906ba15a"
      },
      "outputs": [
        {
          "name": "stdout",
          "output_type": "stream",
          "text": [
            "{'1': 'Kidney Failure'}\n"
          ]
        }
      ],
      "source": [
        "# To display cui to preferred name\n",
        "print(cdb.cui2preferred_name)\n"
      ]
    },
    {
      "cell_type": "code",
      "execution_count": null,
      "metadata": {
        "colab": {
          "base_uri": "https://localhost:8080/"
        },
        "id": "j18tyQ2Kk7hV",
        "outputId": "745889c2-e8b5-47d5-f985-035432732128"
      },
      "outputs": [
        {
          "name": "stdout",
          "output_type": "stream",
          "text": [
            "{'1': {'T047'}, '7': set()}\n"
          ]
        }
      ],
      "source": [
        "# We have a link from cui to type ids\n",
        "print(cdb.cui2type_ids)\n"
      ]
    },
    {
      "cell_type": "markdown",
      "metadata": {
        "id": "Lpx7zGvwk7ha"
      },
      "source": [
        "### Save the Concept Database model"
      ]
    },
    {
      "cell_type": "code",
      "execution_count": null,
      "metadata": {
        "id": "fC01maOzk7ha"
      },
      "outputs": [],
      "source": [
        "cdb.save(DATA_DIR + \"cdb.dat\")"
      ]
    },
    {
      "cell_type": "markdown",
      "metadata": {
        "id": "97uiDwvAk7hc"
      },
      "source": [
        "### Load the Concept Database model"
      ]
    },
    {
      "cell_type": "code",
      "execution_count": null,
      "metadata": {
        "colab": {
          "base_uri": "https://localhost:8080/"
        },
        "id": "J9Ft8PbFk7hc",
        "outputId": "76fd01ee-6914-4aca-e319-a0256089b10d"
      },
      "outputs": [
        {
          "name": "stderr",
          "output_type": "stream",
          "text": [
            "WARNING:medcat.cdb:The CDB was exported by an unknown version of MedCAT.\n"
          ]
        }
      ],
      "source": [
        "cdb = CDB.load(DATA_DIR + \"cdb.dat\")"
      ]
    },
    {
      "cell_type": "markdown",
      "metadata": {
        "id": "0xqmmAue-UE4"
      },
      "source": [
        "## Setting the CDB configuration\n",
        "\n",
        "The CDB config sets the model parameters.\n",
        "This allows you to tailor the model to your own specific use case. Although the default configuration will suit the majority of use cases."
      ]
    },
    {
      "cell_type": "code",
      "execution_count": null,
      "metadata": {
        "id": "eH1xiXvG-aWR"
      },
      "outputs": [],
      "source": [
        "# For further information on the cdb configuration options and explore what the default options are.\n",
        "??cdb.config"
      ]
    },
    {
      "cell_type": "code",
      "execution_count": null,
      "metadata": {
        "id": "-aLoW6ltAa6l"
      },
      "outputs": [],
      "source": [
        "# Set a couple of parameters, they are usually set via environments, but\n",
        "#here we will do it explicitly. You can read more about each option in the \n",
        "#medcat repository: https://github.com/CogStack/MedCAT\n",
        "\n",
        "cdb.config.ner['min_name_len'] = 2\n",
        "cdb.config.ner['upper_case_limit_len'] = 3\n",
        "cdb.config.general['spell_check'] = True\n",
        "cdb.config.linking['train_count_threshold'] = 10\n",
        "cdb.config.linking['similarity_threshold'] = 0.3\n",
        "cdb.config.linking['train'] = True\n",
        "cdb.config.linking['disamb_length_limit'] = 5\n",
        "cdb.config.general['full_unlink'] = True"
      ]
    },
    {
      "cell_type": "markdown",
      "metadata": {
        "id": "cqmVITvWCIr6"
      },
      "source": [
        "Note: Don't forget to save the cdb with the new configurations if you want to reuse them!"
      ]
    },
    {
      "cell_type": "markdown",
      "metadata": {
        "id": "DZvhmkIL8433"
      },
      "source": [
        "# Create a MedCAT model pack\n",
        "\n",
        "A MedCAT model pack is an easy way to store all the various components of a MedCAT model in one place.\n",
        "\n",
        "This includes the CDB, CDB configurations, Vocab, and even various MetaCAT models! We will learn more about the latter in the following tutorials."
      ]
    },
    {
      "cell_type": "code",
      "execution_count": null,
      "metadata": {
        "id": "LxcW2GcM-c-M"
      },
      "outputs": [],
      "source": [
        "# Initialise the model\n",
        "cat = CAT(cdb=cdb, config=cdb.config, vocab=vocab)"
      ]
    },
    {
      "cell_type": "code",
      "execution_count": null,
      "metadata": {
        "colab": {
          "base_uri": "https://localhost:8080/",
          "height": 780
        },
        "id": "-cXusFuI-drw",
        "outputId": "9cbe9bfd-27cb-458e-b967-b466b4cac6e1"
      },
      "outputs": [
        {
          "name": "stderr",
          "output_type": "stream",
          "text": [
            "WARNING:medcat:Please consider populating the version information [description, performance, location, ontology] in cat.config.version\n",
            "/usr/local/lib/python3.7/dist-packages/numpy/lib/function_base.py:380: RuntimeWarning: Mean of empty slice.\n",
            " avg = a.mean(axis)\n",
            "/usr/local/lib/python3.7/dist-packages/numpy/core/_methods.py:189: RuntimeWarning: invalid value encountered in double_scalars\n",
            " ret = ret.dtype.type(ret / rcount)\n",
            "WARNING:medcat:Please consider updating [description, performance, location, ontology] in cat.config.version\n",
            "WARNING:medcat:This will save all models into a zip file, can take some time and require quite a bit of disk space.\n",
            "INFO:medcat:{\n",
            " \"Model ID\": \"a84c91ebfeb4f727\",\n",
            " \"Last Modified On\": \"25 August 2022\",\n",
            " \"History (from least to most recent)\": [],\n",
            " \"Description\": \"No description\",\n",
            " \"Source Ontology\": null,\n",
            " \"Location\": null,\n",
            " \"MetaCAT models\": [],\n",
            " \"Basic CDB Stats\": {\n",
            " \"Number of concepts\": 2,\n",
            " \"Number of names\": 7,\n",
            " \"Number of concepts that received training\": 0,\n",
            " \"Number of seen training examples in total\": 0,\n",
            " \"Average training examples per concept\": NaN\n",
            " },\n",
            " \"Performance\": {\n",
            " \"ner\": {},\n",
            " \"meta\": {}\n",
            " },\n",
            " \"Important Parameters (Partial view, all available in cat.config)\": {\n",
            " \"config.ner['min_name_len']\": {\n",
            " \"value\": 2,\n",
            " \"description\": \"Minimum detection length (found terms/mentions shorter than this will not be detected).\"\n",
            " },\n",
            " \"config.ner['upper_case_limit_len']\": {\n",
            " \"value\": 3,\n",
            " \"description\": \"All detected terms shorter than this value have to be uppercase, otherwise they will be ignored.\"\n",
            " },\n",
            " \"config.linking['similarity_threshold']\": {\n",
            " \"value\": 0.3,\n",
            " \"description\": \"If the confidence of the model is lower than this a detection will be ignore.\"\n",
            " },\n",
            " \"config.general['spell_check']\": {\n",
            " \"value\": true,\n",
            " \"description\": \"Is spell checking enabled.\"\n",
            " },\n",
            " \"config.general['spell_check_len_limit']\": {\n",
            " \"value\": 7,\n",
            " \"description\": \"Words shorter than this will not be spell checked.\"\n",
            " }\n",
            " },\n",
            " \"MedCAT Version\": \"1.3.0\"\n",
            "}\n"
          ]
        },
        {
          "data": {
            "application/vnd.google.colaboratory.intrinsic+json": {
              "type": "string"
            },
            "text/plain": [
              "'medcat_model_pack_a84c91ebfeb4f727'"
            ]
          },
          "execution_count": 27,
          "metadata": {},
          "output_type": "execute_result"
        }
      ],
      "source": [
        "# Create and save a model pack\n",
        "cat.create_model_pack(DATA_DIR + \"my_first_medcat_modelpack\")"
      ]
    },
    {
      "cell_type": "markdown",
      "metadata": {
        "id": "9fwiKys4k7he"
      },
      "source": [
        "# End\n",
        "\n",
        "This is everything you need to create your own MedCAT models. In the following tutorials you will learn how to uses modelpacks to train models and use them to annotate documents. "
      ]
    }
  ],
  "metadata": {
    "colab": {
      "name": "MedCAT Tutorial | Part 3.1 Building a Concept Database and Vocabulary.ipynb",
      "provenance": []
    },
    "kernelspec": {
      "display_name": "medcat",
      "language": "python",
      "name": "python3"
    },
    "language_info": {
      "codemirror_mode": {
        "name": "ipython",
        "version": 3
      },
      "file_extension": ".py",
      "mimetype": "text/x-python",
      "name": "python",
      "nbconvert_exporter": "python",
      "pygments_lexer": "ipython3",
      "version": "3.8.10"
    },
    "vscode": {
      "interpreter": {
        "hash": "7fc157cf9818e7729570fdff7aa5471b283790a073229f4caddd9aa937a7ca2e"
      }
    }
  },
  "nbformat": 4,
  "nbformat_minor": 0
}
