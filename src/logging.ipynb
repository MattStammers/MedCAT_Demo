{
 "cells": [
  {
   "attachments": {},
   "cell_type": "markdown",
   "metadata": {},
   "source": [
    "\n",
    "# Handling loggers\n",
    "\n",
    "This script takes you through various ways to handle loggers using MedCAT."
   ]
  },
  {
   "cell_type": "code",
   "execution_count": null,
   "metadata": {},
   "outputs": [],
   "source": [
    "try:\n",
    "    from medcat.cat import CAT\n",
    "except:\n",
    "    print(\"WARNING: Runtime will restart automatically and please run other cells thereafter.\")\n",
    "    exit()"
   ]
  },
  {
   "cell_type": "code",
   "execution_count": null,
   "metadata": {},
   "outputs": [],
   "source": [
    "# import medcat\n",
    "import medcat\n",
    "# we will use the below later\n",
    "from medcat import config\n",
    "from medcat import cat\n",
    "import os\n",
    "# print out version string\n",
    "print(medcat.__version__)\n",
    "# make sure there is a logger\n",
    "if not hasattr(medcat, 'logger'):\n",
    "    raise ValueError(\"This is an incompatible version!\")\n",
    "print(\"The package logger:\", medcat.logger)\n",
    "\n",
    "def reset_all_logger_handlers(log_file='temp_medcat.log'): # reset logger handlers in case a block is run multiple times\n",
    "    medcat.logger.handlers = medcat.logger.handlers[:1] # include the default NullHandler\n",
    "    config.logger.handlers = []\n",
    "    cat.logger.handlers = []\n",
    "    # remove temp log file if it exists\n",
    "    if os.path.exists(log_file):\n",
    "        os.remove(log_file)"
   ]
  },
  {
   "cell_type": "code",
   "execution_count": null,
   "metadata": {},
   "outputs": [],
   "source": [
    "log_file = 'temp_medcat.log'\n",
    "import os\n",
    "# the default behaviour is to not log anything, the following should thus not create any output\n",
    "medcat.logger.warning(\"This should be ignored\")\n",
    "print('Log file should not exists, does it?', os.path.exists(log_file))\n",
    "# enable default loggging to the package-level logger\n",
    "medcat.add_default_log_handlers(target_file=log_file)\n",
    "# now we should have a console logger as well as a log in medcat.log\n",
    "# so we should see the following output to both\n",
    "msg = \"This message should show up in console and be written to medcat.log\"\n",
    "medcat.logger.warning(msg)\n",
    "with open(log_file, 'r') as f:\n",
    "    last_line = f.readlines()[-1][:-1] # last line, ignoring the newline char\n",
    "    print(\"Last line should be equal to our message\", msg == last_line)\n",
    "reset_all_logger_handlers(log_file) # for cleanup"
   ]
  },
  {
   "cell_type": "code",
   "execution_count": null,
   "metadata": {},
   "outputs": [],
   "source": [
    "import logging\n",
    "config.logger.addHandler(logging.StreamHandler())\n",
    "# now, the medcat.logger won't log into console\n",
    "medcat.logger.error(\"This error does not show up\")\n",
    "# however, the config.logger will\n",
    "config.logger.warning(\"This warning will show up\")\n",
    "# and at the same time, we can see that the logger of cat won't log anything either\n",
    "cat.logger.warning(\"This warning will not show up either\")\n",
    "reset_all_logger_handlers() # for cleanup"
   ]
  },
  {
   "cell_type": "code",
   "execution_count": null,
   "metadata": {},
   "outputs": [],
   "source": [
    "target_file_config = 'medcat_config.log' # some target log file for config logger\n",
    "target_file_cat = 'medcat_cat.log' # different log file for cat\n",
    "# set up different file handlers for the two different modules\n",
    "config.logger.addHandler(logging.FileHandler(target_file_config))\n",
    "cat.logger.addHandler(logging.FileHandler(target_file_cat))\n",
    "# config now logs into a different file than cat\n",
    "# i.e the following gets logged into config's log file\n",
    "config.logger.warning(\"There has been an issue with the config\")\n",
    "# and the following gets logged into cat's log file\n",
    "cat.logger.error(\"There was a critical issue in CAT\")\n",
    "# we can check that by looking at the files\n",
    "with open(target_file_config) as f:\n",
    "    config_contents = f.read()\n",
    "with open(target_file_cat) as f:\n",
    "    cat_contents = f.read()\n",
    "print('Config log contents:\\n', config_contents)\n",
    "print('CAT log contents:\\n', cat_contents)\n",
    "# cleanup\n",
    "reset_all_logger_handlers(target_file_config)\n",
    "reset_all_logger_handlers(target_file_cat)"
   ]
  }
 ],
 "metadata": {
  "language_info": {
   "name": "python"
  },
  "orig_nbformat": 4
 },
 "nbformat": 4,
 "nbformat_minor": 2
}
